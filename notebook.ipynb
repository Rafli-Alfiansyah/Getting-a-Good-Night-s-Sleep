{
 "cells": [
  {
   "cell_type": "code",
   "execution_count": 13,
   "id": "a622f61f-54d5-468a-83b6-41f0ff404278",
   "metadata": {
    "executionCancelledAt": null,
    "executionTime": 11,
    "lastExecutedAt": 1757837627132,
    "lastExecutedByKernel": "6a4098cd-19dc-4884-95ef-45fe65db9ee2",
    "lastScheduledRunId": null,
    "lastSuccessfullyExecutedCode": "import pandas as pd"
   },
   "outputs": [],
   "source": [
    "import pandas as pd"
   ]
  },
  {
   "cell_type": "code",
   "execution_count": 14,
   "id": "389671f8-7e95-45c5-995a-e285072c6d04",
   "metadata": {
    "executionCancelledAt": null,
    "executionTime": 49,
    "lastExecutedAt": 1757837627181,
    "lastExecutedByKernel": "6a4098cd-19dc-4884-95ef-45fe65db9ee2",
    "lastScheduledRunId": null,
    "lastSuccessfullyExecutedCode": "sleep = pd.read_csv('sleep_health_data.csv')\navg_sleep_duration_by_occupation = sleep.groupby('Occupation')['Sleep Duration'].mean()\nlowest_sleep_occ = avg_sleep_duration_by_occupation.idxmin()\nprint(f\"The occupation with the lowest average sleep duration is: {lowest_sleep_occ}\")"
   },
   "outputs": [
    {
     "name": "stdout",
     "output_type": "stream",
     "text": [
      "The occupation with the lowest average sleep duration is: Sales Representative\n"
     ]
    }
   ],
   "source": [
    "sleep = pd.read_csv('sleep_health_data.csv')\n",
    "avg_sleep_duration_by_occupation = sleep.groupby('Occupation')['Sleep Duration'].mean()\n",
    "lowest_sleep_occ = avg_sleep_duration_by_occupation.idxmin()\n",
    "print(f\"The occupation with the lowest average sleep duration is: {lowest_sleep_occ}\")"
   ]
  },
  {
   "cell_type": "code",
   "execution_count": 15,
   "id": "c10cd5c5-af6c-4ab5-b966-6a2d6fdf4065",
   "metadata": {
    "executionCancelledAt": null,
    "executionTime": 52,
    "lastExecutedAt": 1757837627233,
    "lastExecutedByKernel": "6a4098cd-19dc-4884-95ef-45fe65db9ee2",
    "lastScheduledRunId": null,
    "lastSuccessfullyExecutedCode": "avg_quality_sleep_by_occupation = sleep.groupby('Occupation')['Quality of Sleep'].mean()\nlowest_sleep_quality_occ = avg_quality_sleep_by_occupation.idxmin()\nsame_occ = lowest_sleep_occ == lowest_sleep_quality_occ\nprint(f\"The occupation with the lowest average sleep quality is: {lowest_sleep_quality_occ}\")\nprint(f\"Is it the same occupation for lowest sleep duration and quality? {same_occ}\")",
    "outputsMetadata": {
     "0": {
      "height": 59,
      "type": "stream"
     }
    }
   },
   "outputs": [
    {
     "name": "stdout",
     "output_type": "stream",
     "text": [
      "The occupation with the lowest average sleep quality is: Sales Representative\n",
      "Is it the same occupation for lowest sleep duration and quality? True\n"
     ]
    }
   ],
   "source": [
    "avg_quality_sleep_by_occupation = sleep.groupby('Occupation')['Quality of Sleep'].mean()\n",
    "lowest_sleep_quality_occ = avg_quality_sleep_by_occupation.idxmin()\n",
    "same_occ = lowest_sleep_occ == lowest_sleep_quality_occ\n",
    "print(f\"The occupation with the lowest average sleep quality is: {lowest_sleep_quality_occ}\")\n",
    "print(f\"Is it the same occupation for lowest sleep duration and quality? {same_occ}\")"
   ]
  },
  {
   "cell_type": "code",
   "execution_count": 16,
   "id": "8bcb2504-b92d-432a-a314-be02f9a5fffa",
   "metadata": {
    "executionCancelledAt": null,
    "executionTime": 52,
    "lastExecutedAt": 1757837627285,
    "lastExecutedByKernel": "6a4098cd-19dc-4884-95ef-45fe65db9ee2",
    "lastScheduledRunId": null,
    "lastSuccessfullyExecutedCode": "bmi_sleep_disorder_counts = sleep.groupby(['BMI Category', 'Sleep Disorder']).size().unstack(fill_value=0)\nbmi_total_counts = sleep.groupby('BMI Category').size()\nbmi_insomnia_ratios = (bmi_sleep_disorder_counts['Insomnia'] / bmi_total_counts).round(2).to_dict()\nprint(bmi_insomnia_ratios)"
   },
   "outputs": [
    {
     "name": "stdout",
     "output_type": "stream",
     "text": [
      "{'Normal': 0.04, 'Obese': 0.4, 'Overweight': 0.43}\n"
     ]
    }
   ],
   "source": [
    "bmi_sleep_disorder_counts = sleep.groupby(['BMI Category', 'Sleep Disorder']).size().unstack(fill_value=0)\n",
    "bmi_total_counts = sleep.groupby('BMI Category').size()\n",
    "bmi_insomnia_ratios = (bmi_sleep_disorder_counts['Insomnia'] / bmi_total_counts).round(2).to_dict()\n",
    "print(bmi_insomnia_ratios)"
   ]
  }
 ],
 "metadata": {
  "colab": {
   "name": "Welcome to DataCamp Workspaces.ipynb",
   "provenance": []
  },
  "kernelspec": {
   "display_name": "Python 3 (ipykernel)",
   "language": "python",
   "name": "python3"
  },
  "language_info": {
   "codemirror_mode": {
    "name": "ipython",
    "version": 3
   },
   "file_extension": ".py",
   "mimetype": "text/x-python",
   "name": "python",
   "nbconvert_exporter": "python",
   "pygments_lexer": "ipython3",
   "version": "3.8.10"
  }
 },
 "nbformat": 4,
 "nbformat_minor": 5
}
